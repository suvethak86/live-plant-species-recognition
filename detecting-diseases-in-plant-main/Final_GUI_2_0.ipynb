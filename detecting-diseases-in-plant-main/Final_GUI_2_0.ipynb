{
  "cells": [
    {
      "cell_type": "code",
      "execution_count": null,
      "metadata": {
        "id": "Lj0zm0wKMeWa"
      },
      "outputs": [],
      "source": [
        "from ipywebrtc import CameraStream, ImageRecorder\n",
        "from ipywidgets import Video, Image, Button, Layout, TwoByTwoLayout, IntText\n",
        "from IPython.display import display \n",
        "from keras.preprocessing import image\n",
        "import ipywidgets as widgets\n",
        "%matplotlib inline\n",
        "import matplotlib.pyplot as plt\n",
        "plt.style.use('seaborn-whitegrid')\n",
        "import numpy as np\n",
        "import json "
      ]
    },
    {
      "cell_type": "code",
      "execution_count": null,
      "metadata": {
        "scrolled": false,
        "id": "yqUTsxw7MeWd"
      },
      "outputs": [],
      "source": [
        "# This section handles camera functions\n",
        "camera = CameraStream(constraints=\n",
        "                      {'facing_mode': 'user',\n",
        "                       'audio': False,\n",
        "                       'video': { 'width': 'auto', 'height': 'auto'}\n",
        "                       })"
      ]
    },
    {
      "cell_type": "code",
      "execution_count": null,
      "metadata": {
        "scrolled": false,
        "id": "DzjwRecdMeWe"
      },
      "outputs": [],
      "source": [
        "# Keras model import for guesses. \n",
        "import tensorflow as tf\n",
        "import tensorflow_hub as hub\n",
        "import glob\n",
        "model = tf.keras.models.load_model('plant.h5',custom_objects={'KerasLayer':hub.KerasLayer})\n",
        "# model.summary()"
      ]
    },
    {
      "cell_type": "code",
      "execution_count": null,
      "metadata": {
        "scrolled": false,
        "id": "6PCmzVhDMeWe"
      },
      "outputs": [],
      "source": [
        "# Class names for model predictions\n",
        "class_names=['Apple;Apple_scab', 'Apple;Black_rot', 'Apple;Cedar_apple_rust', 'Apple;healthy', 'Blueberry;healthy', 'Cherry;healthy', 'Cherry;Powdery_mildew', 'Corn;Cercospora_leaf_spot_Gray_leaf_spot', 'Corn;Common_rust', 'Corn;healthy', 'Corn;Northern_Leaf_Blight', 'Grape;Black_rot', 'Grape;healthy', 'Heart Leaf Philodendron;citrus_greening', 'Heart Leaf Philodendron;healthy', 'Orange;Citrus_greening', 'Peach;Bacterial_spot', 'Peach;healthy', 'Pepper bell;Bacterial_spot', 'Pepper bell;healthy', 'Polka Dot;healthy', 'Potato;healthy', 'Potato;Late_blight', 'Potato;Early_blight', 'Raspberry;healthy', 'Soybean;healthy', 'Squash;Powdery_mildew', 'Strawberry;healthy', 'Strawberry;Leaf_scorch' 'Tomato;Target_Spot', 'Tomato;Tomato_Yellow_Leaf_Curl_Virus', 'Tomato__;Tomato_mosaic_virus', 'Tomato_;Bacterial_spot', 'Tomato;Early_blight', 'Tomato;healthy', 'Tomato;Late_blight', 'Tomato;Leaf_Mold', 'Tomato;Septoria_leaf_spot']"
      ]
    },
    {
      "cell_type": "code",
      "execution_count": null,
      "metadata": {
        "scrolled": false,
        "id": "iQ6KY_ImMeWf"
      },
      "outputs": [],
      "source": [
        "IMAGE_SIZE = (224, 224)\n",
        "# image loading function\n",
        "def load_image(img_path, show=False):\n",
        "\n",
        "    img = image.load_img(img_path, target_size=IMAGE_SIZE)\n",
        "    img_tensor = image.img_to_array(img)                    # (height, width, channels)\n",
        "    img_tensor = np.expand_dims(img_tensor, axis=0)         # (1, height, width, channels), add a dimension because the model expects this shape: (batch_size, height, width, channels)\n",
        "    img_tensor /= 255.                                      # imshow expects values in the range [0, 1]\n",
        "\n",
        "    if show:\n",
        "        plt.imshow(img_tensor[0])                           \n",
        "        plt.axis('off')\n",
        "        plt.show()\n",
        "\n",
        "    return img_tensor"
      ]
    },
    {
      "cell_type": "code",
      "execution_count": null,
      "metadata": {
        "scrolled": false,
        "id": "Qt1OUwqpMeWf"
      },
      "outputs": [],
      "source": [
        "# prediction method \n",
        "\n",
        "def do_predict(test_image):\n",
        "    new_image = load_image(test_image)\n",
        "    pred = model.predict(new_image)\n",
        "    # print(pred[0])\n",
        "    prediction_result = class_names[np.argmax(pred[0])]\n",
        "    \n",
        "#     print(pred[0])\n",
        "#     print(pred[0][np.argmax(pred[0])])\n",
        "    if pred[0][np.argmax(pred[0])] < 0.073:\n",
        "        prediction_result = \"Unknown\"\n",
        "        \n",
        "    # print('prediction=',prediction_result)\n",
        "    prediction_handler(prediction_result)\n",
        "    save_prediction(prediction_result)\n",
        "\n",
        "\n",
        "    img = image.load_img(test_image,target_size=IMAGE_SIZE)\n",
        "    \n",
        "def save_prediction(disease_t): \n",
        "    data = json.load(open(\"disease_count.json\"))\n",
        "    try:\n",
        "        current_val = data[disease_t]\n",
        "        data[disease_t] =current_val + 1\n",
        "        # print(data[disease_t])\n",
        "        json.dump( data, open( \"disease_count.json\", 'w' ) )\n",
        "        plot_gen(data)\n",
        "        \n",
        "    except:\n",
        "        return None"
      ]
    },
    {
      "cell_type": "code",
      "execution_count": null,
      "metadata": {
        "scrolled": true,
        "id": "wuad3GrCMeWh"
      },
      "outputs": [],
      "source": [
        "# Opens up the camera stream, does some loading of the images\n",
        "front_camera = CameraStream.facing_user(audio=False)\n",
        "image_recorder = ImageRecorder(stream=front_camera)\n",
        "file = open(\"test_plot.png\", \"rb\")\n",
        "image_data = file.read()\n",
        "file.close()"
      ]
    },
    {
      "cell_type": "code",
      "execution_count": null,
      "metadata": {
        "scrolled": false,
        "id": "F5C_jRIjMeWh"
      },
      "outputs": [],
      "source": [
        "# Data for plotting\n",
        "\n",
        "def plot_gen(disease_data):\n",
        "    \n",
        "    disease_data = json.load(open(\"disease_count.json\"))\n",
        "    plt.figure(figsize=(12,8), dpi= 100, facecolor='w', edgecolor='k')\n",
        "    for dict_keys, dict_values in disease_data.items():\n",
        "        plt.plot(dict_keys,dict_values, 'o')\n",
        "        \n",
        "    plt.savefig('test_plot.png')\n",
        "    plt.close()\n",
        "    return None \n",
        "\n",
        "\n"
      ]
    },
    {
      "cell_type": "code",
      "execution_count": null,
      "metadata": {
        "scrolled": false,
        "id": "FrJO_fuwMeWi"
      },
      "outputs": [],
      "source": [
        "import PIL.Image\n",
        "import PIL.ImageFilter\n",
        "import io\n",
        "import os\n",
        "\n",
        "# Method handles the click event from the user\n",
        "def do_predict_button(self):\n",
        "     try: \n",
        "        im = PIL.Image.open(io.BytesIO(image_recorder.image.value))\n",
        "        rgb= im.convert('RGB')\n",
        "        rgb.save(\"recorded.jpg\")\n",
        "        do_predict(\"recorded.jpg\")\n",
        "        os.remove(\"recorded.jpg\")\n",
        "     except: \n",
        "         update_placeholder(\"Please capture the image first\")\n",
        "\n",
        "\n"
      ]
    },
    {
      "cell_type": "code",
      "execution_count": null,
      "metadata": {
        "id": "FV57__AwMeWi"
      },
      "outputs": [],
      "source": [
        "# Checks the correct items to display, formats it and spits it out\n",
        "def prediction_handler(p_prediction): \n",
        "    prediction = p_prediction.split(';')\n",
        "    if \"Healthy\".lower() in prediction[-1].lower():\n",
        "        plant_name = prediction[0]\n",
        "        plant_status = 'Healthy'\n",
        "        plant_disease = 'NIL'\n",
        "        plant_solution = 'NIL'\n",
        "        \n",
        "    else: \n",
        "        plant_name = prediction[0]\n",
        "        if \"Unknown\" in plant_name:\n",
        "            plant_status = \"Unknown\"\n",
        "            plant_solution = \"Take another picture\"\n",
        "            plant_disease = \"NIL\"\n",
        "            # this is temporary\n",
        "            plant_disease = prediction[-1]\n",
        "        else:\n",
        "            plant_status = \"Unhealthy\"\n",
        "            plant_solution = 'Increase pH level of water'\n",
        "            plant_disease = p_prediction.split(';')[-1]\n",
        "    \n",
        "    text = ((\"Species: {}\\nStatus: {}\\nDisease: {}\\nSolution: {}\" .format(plant_name, plant_status,plant_disease,plant_solution)))\n",
        "    update_placeholder(text)\n"
      ]
    },
    {
      "cell_type": "code",
      "execution_count": null,
      "metadata": {
        "id": "gB-ik3vOMeWj"
      },
      "outputs": [],
      "source": [
        "# Updates the textbox when needed\n",
        "def update_placeholder(text):\n",
        "    extra.placeholder = text\n",
        "    \n",
        "    "
      ]
    },
    {
      "cell_type": "code",
      "execution_count": null,
      "metadata": {
        "colab": {
          "referenced_widgets": [
            "2697db421f1f42089ce75a06b683cebd"
          ]
        },
        "id": "Nwy_SEWlMeWj",
        "outputId": "ac453bc0-91aa-455e-f7ac-b386ea414cb0"
      },
      "outputs": [
        {
          "data": {
            "application/vnd.jupyter.widget-view+json": {
              "model_id": "2697db421f1f42089ce75a06b683cebd",
              "version_major": 2,
              "version_minor": 0
            },
            "text/plain": [
              "GridBox(children=(HBox(children=(ImageRecorder(image=Image(value=b''), stream=CameraStream(constraints={'audio…"
            ]
          },
          "metadata": {},
          "output_type": "display_data"
        }
      ],
      "source": [
        "from ipywidgets import GridBox\n",
        "\n",
        "# Handles the generation of the GUI\n",
        "header  = widgets.HBox([image_recorder], layout=Layout(width='auto', grid_area='header'))\n",
        "main    = widgets.HBox([front_camera], layout=Layout(width='auto', height=\"120%\", grid_area='main'))\n",
        "sidebar = Button(description='PREDICTION',layout=Layout(width='auto', grid_area='sidebar'))\n",
        "extra = widgets.Textarea(placeholder = \"Capture an Image to Start\", disabled = True,\n",
        "                 layout=Layout(width='auto',height = '150%', grid_area='ex'))\n",
        "footer  = widgets.Image(value=image_data, format='png', width='auto', height='auto',layout=Layout(width='auto', grid_area='footer'))\n",
        "arduino_display = widgets.Textarea(placeholder=\"Arduino data\", disabled=True,\n",
        "                                   layout=Layout(width=\"auto\",height=\"150%\",grid_area=\"ad\"))\n",
        "arduino_header = widgets.HTML(value=\"<p style='text-align:center;'><b>Arduino Data</b></p>\", layout=Layout(width=\"auto\",height=\"auto\",grid_area=\"ah\"))\n",
        "\n",
        "\n",
        "sidebar.on_click(do_predict_button)\n",
        "GridBox(children=[header, main, sidebar, footer, extra, arduino_display, arduino_header],\n",
        "        layout=Layout(\n",
        "            width='100%',\n",
        "            grid_template_rows='auto auto auto auto',\n",
        "            grid_template_columns='25% 25% 25% 25%',\n",
        "            grid_template_areas='''\n",
        "            \"main main header header\"\n",
        "            \"ah ah sidebar sidebar\"\n",
        "            \"ad ad ex ex \"\n",
        "            \"footer footer footer footer\"\n",
        "            ''')\n",
        "       )"
      ]
    }
  ],
  "metadata": {
    "kernelspec": {
      "display_name": "Python 3 (ipykernel)",
      "language": "python",
      "name": "python3"
    },
    "language_info": {
      "codemirror_mode": {
        "name": "ipython",
        "version": 3
      },
      "file_extension": ".py",
      "mimetype": "text/x-python",
      "name": "python",
      "nbconvert_exporter": "python",
      "pygments_lexer": "ipython3",
      "version": "3.9.7"
    },
    "pycharm": {
      "stem_cell": {
        "cell_type": "raw",
        "metadata": {
          "collapsed": false
        },
        "source": [
          "from ipywebrtc import CameraStream, ImageRecorder\n",
          "from ipywidgets import Video, Image, Button, Layout, TwoByTwoLayout, IntText\n",
          "from IPython.display import display \n",
          "from keras.preprocessing import image\n",
          "import ipywidgets as widgets\n",
          "%matplotlib inline\n",
          "import matplotlib.pyplot as plt\n",
          "plt.style.use('seaborn-whitegrid')\n",
          "import numpy as np\n",
          "import json \n"
        ]
      }
    },
    "colab": {
      "name": "Final_GUI_2.0",
      "provenance": []
    }
  },
  "nbformat": 4,
  "nbformat_minor": 0
}