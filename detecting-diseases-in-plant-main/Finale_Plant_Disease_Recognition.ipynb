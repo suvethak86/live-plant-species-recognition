{
  "cells": [
    {
      "cell_type": "markdown",
      "metadata": {
        "id": "view-in-github"
      },
      "source": [
        "<a href=\"https://colab.research.google.com/github/farahschoolyr3/plant-disease-project/blob/main/Finale_Plant_Disease_Recognition.ipynb\" target=\"_parent\"><img src=\"https://colab.research.google.com/assets/colab-badge.svg\" alt=\"Open In Colab\"/></a>"
      ]
    },
    {
      "cell_type": "code",
      "execution_count": null,
      "metadata": {
        "id": "INjNNm8lz0ek"
      },
      "outputs": [],
      "source": [
        "import os\n",
        "img_path = os.getcwd() + r'\\images'"
      ]
    },
    {
      "cell_type": "code",
      "execution_count": null,
      "metadata": {
        "id": "kVNO4S91mcV6"
      },
      "outputs": [],
      "source": [
        "base_dir = os.getcwd()+r'\\PlantDisease'\n",
        "train_dir = os.path.join(base_dir, 'train')\n",
        "validation_dir = os.path.join(base_dir, 'validation')\n",
        "test_dir = os.path.join(base_dir, 'test')\n",
        "\n",
        "train_Apple___Apple_scab_dir = os.path.join(train_dir, 'Apple___Apple_scab')\n",
        "train_Apple___Black_rot_dir = os.path.join(train_dir, 'Apple___Black_rot')\n",
        "train_Apple___Cedar_apple_rust_dir = os.path.join(train_dir, 'Apple___Cedar_apple_rust')\n",
        "train_Apple___healthy_dir = os.path.join(train_dir, 'Apple___healthy')\n",
        "train_Blueberry___healthy_dir = os.path.join(train_dir, 'Blueberry___healthy')\n",
        "train_Cherry____healthy_dir = os.path.join(train_dir, 'Cherry____healthy')\n",
        "train_Cherry____Powdery_mildew_dir = os.path.join(train_dir, 'Cherry____Powdery_mildew')\n",
        "train_Corn____Cercospora_leaf_spot_Gray_leaf_spot_dir = os.path.join(train_dir, 'Corn____Cercospora_leaf_spot_Gray_leaf_spot')\n",
        "train_Corn____Common_rust_dir = os.path.join(train_dir, 'Corn____Common_rust')\n",
        "train_Corn____healthy_dir = os.path.join(train_dir, 'Corn____healthy')\n",
        "train_Corn____Northern_Leaf_Blight_dir = os.path.join(train_dir, 'Corn____Northern_Leaf_Blight')\n",
        "train_Grape___Black_rot_dir = os.path.join(train_dir, 'Grape___Black_rot')\n",
        "train_Grape___healthy_dir = os.path.join(train_dir, 'Grape___healthy')\n",
        "train_Heart__Leaf_Philodendron_citrus_greening_dir = os.path.join(train_dir, 'Heart__Leaf_Philodendron_citrus_greening')\n",
        "train_Heart__Leaf_Philodendron_healthy_dir = os.path.join(train_dir, 'Heart__Leaf_Philodendron_healthy')\n",
        "train_Orange___Citrus_greening_dir = os.path.join(train_dir, 'Orange___Citrus_greening')\n",
        "train_Peach___Bacterial_spot_dir = os.path.join(train_dir, 'Peach___Bacterial_spot')\n",
        "train_Peach___healthy_dir = os.path.join(train_dir, 'Peach___healthy')\n",
        "train_Pepper__bell___Bacterial_spot_dir = os.path.join(train_dir, 'Pepper__bell___Bacterial_spot')\n",
        "train_Pepper__bell___healthy_dir = os.path.join(train_dir, 'Pepper__bell___healthy')\n",
        "train_Polka_Dot_healthy_dir = os.path.join(train_dir, 'Polka_Dot_healthy')\n",
        "train_Potato___healthy_dir = os.path.join(train_dir, 'Potato___healthy')\n",
        "train_Potato___Late_blight_dir = os.path.join(train_dir, 'Potato___Late_blight')\n",
        "train_Potato__Early_blight_dir = os.path.join(train_dir, 'Potato__Early_blight')\n",
        "train_Raspberry___healthy_dir = os.path.join(train_dir, 'Raspberry___healthy')\n",
        "train_Soybean___healthy_dir = os.path.join(train_dir, 'Soybean___healthy')\n",
        "train_Squash___Powdery_mildew_dir = os.path.join(train_dir, 'Squash___Powdery_mildew')\n",
        "train_Strawberry___healthy_dir = os.path.join(train_dir, 'Strawberry___healthy')\n",
        "train_Strawberry___Leaf_scorch_dir = os.path.join(train_dir, 'Strawberry___Leaf_scorch')\n",
        "train_Tomato___Target_Spot_dir = os.path.join(train_dir, 'Tomato___Target_Spot')\n",
        "train_Tomato___Tomato_Yellow_Leaf_Curl_Virus_dir = os.path.join(train_dir, 'Tomato___Tomato_Yellow_Leaf_Curl_Virus')\n",
        "train_Tomato__Tomato_mosaic_virus_dir = os.path.join(train_dir, 'Tomato__Tomato_mosaic_virus')\n",
        "train_Tomato_Bacterial_spot_dir = os.path.join(train_dir, 'Tomato_Bacterial_spot')\n",
        "train_Tomato_Early_blight_dir = os.path.join(train_dir, 'Tomato_Early_blight')\n",
        "train_Tomato_healthy_dir = os.path.join(train_dir, 'Tomato_healthy')\n",
        "train_Tomato_Late_blight_dir = os.path.join(train_dir, 'Tomato_Late_blight')\n",
        "train_Tomato_Leaf_Mold_dir = os.path.join(train_dir, 'Tomato_Leaf_Mold')\n",
        "train_Tomato_Septoria_leaf_spot_dir = os.path.join(train_dir, 'Tomato_Septoria_leaf_spot')\n",
        "\n",
        "\n",
        "validation_Apple___Apple_scab_dir = os.path.join(validation_dir, 'Apple___Apple_scab')\n",
        "validation_Apple___Black_rot_dir = os.path.join(validation_dir, 'Apple___Black_rot')\n",
        "validation_Apple___Cedar_apple_rust_dir = os.path.join(validation_dir, 'Apple___Cedar_apple_rust')\n",
        "validation_Apple___healthy_dir = os.path.join(validation_dir, 'Apple___healthy')\n",
        "validation_Blueberry___healthy_dir = os.path.join(validation_dir, 'Blueberry___healthy')\n",
        "validation_Cherry____healthy_dir = os.path.join(validation_dir, 'Cherry____healthy')\n",
        "validation_Cherry____Powdery_mildew_dir = os.path.join(validation_dir, 'Cherry____Powdery_mildew')\n",
        "validation_Corn____Cercospora_leaf_spot_Gray_leaf_spot_dir = os.path.join(validation_dir, 'Corn____Cercospora_leaf_spot_Gray_leaf_spot')\n",
        "validation_Corn____Common_rust_dir = os.path.join(validation_dir, 'Corn____Common_rust')\n",
        "validation_Corn____healthy_dir = os.path.join(validation_dir, 'Corn____healthy')\n",
        "validation_Corn____Northern_Leaf_Blight_dir = os.path.join(validation_dir, 'Corn____Northern_Leaf_Blight')\n",
        "validation_Grape___Black_rot_dir = os.path.join(validation_dir, 'Grape___Black_rot')\n",
        "validation_Grape___healthy_dir = os.path.join(validation_dir, 'Grape___healthy')\n",
        "validation_Heart__Leaf_Philodendron_citrus_greening_dir = os.path.join(validation_dir, 'Heart__Leaf_Philodendron_citrus_greening')\n",
        "validation_Heart__Leaf_Philodendron_healthy_dir = os.path.join(validation_dir, 'Heart__Leaf_Philodendron_healthy')\n",
        "validation_Orange___Citrus_greening_dir = os.path.join(validation_dir, 'Orange___Citrus_greening')\n",
        "validation_Peach___Bacterial_spot_dir = os.path.join(validation_dir, 'Peach___Bacterial_spot')\n",
        "validation_Peach___healthy_dir = os.path.join(validation_dir, 'Peach___healthy')\n",
        "validation_Pepper__bell___Bacterial_spot_dir = os.path.join(validation_dir, 'Pepper__bell___Bacterial_spot')\n",
        "validation_Pepper__bell___healthy_dir = os.path.join(validation_dir, 'Pepper__bell___healthy')\n",
        "validation_Polka_Dot_healthy_dir = os.path.join(validation_dir, 'Polka_Dot_healthy')\n",
        "validation_Potato___healthy_dir = os.path.join(validation_dir, 'Potato___healthy')\n",
        "validation_Potato___Late_blight_dir = os.path.join(validation_dir, 'Potato___Late_blight')\n",
        "validation_Potato__Early_blight_dir = os.path.join(validation_dir, 'Potato__Early_blight')\n",
        "validation_Raspberry___healthy_dir = os.path.join(validation_dir, 'Raspberry___healthy')\n",
        "validation_Soybean___healthy_dir = os.path.join(validation_dir, 'Soybean___healthy')\n",
        "validation_Squash___Powdery_mildew_dir = os.path.join(validation_dir, 'Squash___Powdery_mildew')\n",
        "validation_Strawberry___healthy_dir = os.path.join(validation_dir, 'Strawberry___healthy')\n",
        "validation_Strawberry___Leaf_scorch_dir = os.path.join(validation_dir, 'Strawberry___Leaf_scorch')\n",
        "validation_Tomato___Target_Spot_dir = os.path.join(validation_dir, 'Tomato___Target_Spot')\n",
        "validation_Tomato___Tomato_Yellow_Leaf_Curl_Virus_dir = os.path.join(validation_dir, 'Tomato___Tomato_Yellow_Leaf_Curl_Virus')\n",
        "validation_Tomato__Tomato_mosaic_virus_dir = os.path.join(validation_dir, 'Tomato__Tomato_mosaic_virus')\n",
        "validation_Tomato_Bacterial_spot_dir = os.path.join(validation_dir, 'Tomato_Bacterial_spot')\n",
        "validation_Tomato_Early_blight_dir = os.path.join(validation_dir, 'Tomato_Early_blight')\n",
        "validation_Tomato_healthy_dir = os.path.join(validation_dir, 'Tomato_healthy')\n",
        "validation_Tomato_Late_blight_dir = os.path.join(validation_dir, 'Tomato_Late_blight')\n",
        "validation_Tomato_Leaf_Mold_dir = os.path.join(validation_dir, 'Tomato_Leaf_Mold')\n",
        "validation_Tomato_Septoria_leaf_spot_dir = os.path.join(validation_dir, 'Tomato_Septoria_leaf_spot')\n",
        "\n",
        "\n",
        "\n",
        "train_Apple___Apple_scab_fnames = os.listdir(train_Apple___Apple_scab_dir)\n",
        "train_Apple___Black_rot_fnames = os.listdir(train_Apple___Black_rot_dir)\n",
        "train_Apple___Cedar_apple_rust_fnames = os.listdir(train_Apple___Cedar_apple_rust_dir)\n",
        "train_Apple___healthy_fnames = os.listdir(train_Apple___healthy_dir)\n",
        "train_Blueberry___healthy_fnames = os.listdir(train_Blueberry___healthy_dir)\n",
        "train_Cherry____healthy_fnames = os.listdir(train_Cherry____healthy_dir)\n",
        "train_Cherry____Powdery_mildew_fnames = os.listdir(train_Cherry____Powdery_mildew_dir)\n",
        "train_Corn____Cercospora_leaf_spot_Gray_leaf_spot_fnames = os.listdir(train_Corn____Cercospora_leaf_spot_Gray_leaf_spot_dir)\n",
        "train_Corn____Common_rust_fnames = os.listdir(train_Corn____Common_rust_dir)\n",
        "train_Corn____healthy_fnames = os.listdir(train_Corn____healthy_dir)\n",
        "train_Corn____Northern_Leaf_Blight_fnames = os.listdir(train_Corn____Northern_Leaf_Blight_dir)\n",
        "train_Grape___Black_rot_fnames = os.listdir(train_Grape___Black_rot_dir)\n",
        "train_Grape___healthy_fnames = os.listdir(train_Grape___healthy_dir)\n",
        "train_Heart__Leaf_Philodendron_citrus_greening_fnames = os.listdir(train_Heart__Leaf_Philodendron_citrus_greening_dir)\n",
        "train_Heart__Leaf_Philodendron_citrus_healthy_fnames = os.listdir(train_Heart__Leaf_Philodendron_healthy_dir)\n",
        "train_Orange___Citrus_greening_fnames = os.listdir(train_Orange___Citrus_greening_dir)\n",
        "train_Peach___Bacterial_spot_fnames = os.listdir(train_Peach___Bacterial_spot_dir)\n",
        "train_Peach___healthy_fnames = os.listdir(train_Peach___healthy_dir)\n",
        "train_Pepper__bell___Bacterial_spot_fnames = os.listdir(train_Pepper__bell___Bacterial_spot_dir)\n",
        "train_Pepper__bell___healthy_fnames = os.listdir(train_Pepper__bell___healthy_dir)\n",
        "train_Polka_Dot_healthy_fnames = os.listdir(train_Polka_Dot_healthy_dir)\n",
        "train_Potato___healthy_fnames = os.listdir(train_Potato___healthy_dir)\n",
        "train_Potato___Late_blight_fnames = os.listdir(train_Potato___Late_blight_dir)\n",
        "train_Potato__Early_blight_fnames = os.listdir(train_Potato__Early_blight_dir)\n",
        "train_Raspberry___healthy_fnames = os.listdir(train_Raspberry___healthy_dir)\n",
        "train_Soybean___healthy_fnames = os.listdir(train_Soybean___healthy_dir)\n",
        "train_Squash___Powdery_mildew_fnames = os.listdir(train_Squash___Powdery_mildew_dir)\n",
        "train_Strawberry___healthy_fnames = os.listdir(train_Strawberry___healthy_dir)\n",
        "train_Strawberry___Leaf_scorch_fnames = os.listdir(train_Strawberry___Leaf_scorch_dir)\n",
        "train_Tomato___Target_Spot_fnames = os.listdir(train_Tomato___Target_Spot_dir)\n",
        "train_Tomato___Tomato_Yellow_Leaf_Curl_Virus_fnames = os.listdir(train_Tomato___Tomato_Yellow_Leaf_Curl_Virus_dir)\n",
        "train_Tomato__Tomato_mosaic_virus_fnames = os.listdir(train_Tomato__Tomato_mosaic_virus_dir)\n",
        "train_Tomato_Bacterial_spot_fnames = os.listdir(train_Tomato_Bacterial_spot_dir)\n",
        "train_Tomato_Early_blight_fnames = os.listdir(train_Tomato_Early_blight_dir)\n",
        "train_Tomato_healthy_fnames = os.listdir(train_Tomato_healthy_dir)\n",
        "train_Tomato_Late_blight_fnames = os.listdir(train_Tomato_Late_blight_dir)\n",
        "train_Tomato_Leaf_Mold_fnames = os.listdir(train_Tomato_Leaf_Mold_dir)\n",
        "train_Tomato_Septoria_leaf_spot_fnames = os.listdir(train_Tomato_Septoria_leaf_spot_dir)\n",
        "\n",
        "\n",
        "NUMBER_OF_CLASS = 38"
      ]
    },
    {
      "cell_type": "code",
      "execution_count": null,
      "metadata": {
        "id": "tL8eogHbsraj"
      },
      "outputs": [],
      "source": [
        "\n",
        "from __future__ import absolute_import, division, print_function, unicode_literals\n",
        "\n",
        "\n",
        "import tensorflow as tf\n",
        "#tf.logging.set_verbosity(tf.logging.ERROR)\n",
        "#tf.enable_eager_execution()\n",
        "\n",
        "import tensorflow_hub as hub\n",
        "import os\n",
        "from tensorflow.keras.layers import Dense, Flatten, Conv2D\n",
        "from tensorflow.keras import Model\n",
        "from tensorflow.keras.preprocessing.image import ImageDataGenerator\n",
        "from tensorflow.keras.optimizers import Adam\n",
        "from tensorflow.keras import layers\n",
        "#from keras import optimizers"
      ]
    },
    {
      "cell_type": "code",
      "execution_count": null,
      "metadata": {
        "id": "3nLpu9_PlTQ_"
      },
      "outputs": [],
      "source": [
        "import keras\n",
        "from keras import backend as K\n",
        "from keras.layers.core import Dense, Activation\n",
        "from tensorflow.keras.optimizers import Adam\n",
        "from keras.metrics import categorical_crossentropy\n",
        "from keras.preprocessing.image import ImageDataGenerator\n",
        "from keras.preprocessing import image\n",
        "from keras.models import Model\n",
        "from keras.applications import imagenet_utils\n",
        "from keras.layers import Dense,GlobalAveragePooling2D\n",
        "from tensorflow.keras.applications import MobileNet\n",
        "from keras.applications.mobilenet import preprocess_input\n",
        "import numpy as np\n",
        "from IPython.display import Image"
      ]
    },
    {
      "cell_type": "code",
      "execution_count": null,
      "metadata": {
        "id": "CFyQRvjms0jO"
      },
      "outputs": [],
      "source": [
        "IMAGE_SIZE = (224, 224)\n",
        "def prepare_image(file):\n",
        "    img = image.load_img(file, target_size=IMAGE_SIZE)\n",
        "    img_array = image.img_to_array(img)\n",
        "    img_array_expanded_dims = np.expand_dims(img_array, axis=0)\n",
        "    return keras.applications.mobilenet.preprocess_input(img_array_expanded_dims)"
      ]
    },
    {
      "cell_type": "code",
      "execution_count": null,
      "metadata": {
        "id": "ZdE7kLZUtQLc"
      },
      "outputs": [],
      "source": [
        "from keras.preprocessing import image\n",
        "def load_image(img_path, show=False):\n",
        "\n",
        "    img = image.load_img(img_path, target_size=IMAGE_SIZE)\n",
        "    img_tensor = image.img_to_array(img)                    # (height, width, channels)\n",
        "    img_tensor = np.expand_dims(img_tensor, axis=0)         # (1, height, width, channels), add a dimension because the model expects this shape: (batch_size, height, width, channels)\n",
        "    img_tensor /= 255.                                      # imshow expects values in the range [0, 1]\n",
        "\n",
        "    if show:\n",
        "        plt.imshow(img_tensor[0])                           \n",
        "        plt.axis('off')\n",
        "        plt.show()\n",
        "\n",
        "    return img_tensor"
      ]
    },
    {
      "cell_type": "code",
      "execution_count": null,
      "metadata": {
        "id": "c9oFXpDykknW"
      },
      "outputs": [],
      "source": [
        "mobile = keras.applications.mobilenet.MobileNet()"
      ]
    },
    {
      "cell_type": "code",
      "execution_count": null,
      "metadata": {
        "id": "Aw_wbLBhleid"
      },
      "outputs": [],
      "source": [
        "IMAGE_SIZE = (224, 224)\n",
        "def prepare_image(file):\n",
        "    img = image.load_img(file, target_size=IMAGE_SIZE)\n",
        "    img_array = image.img_to_array(img)\n",
        "    img_array_expanded_dims = np.expand_dims(img_array, axis=0)\n",
        "    return keras.applications.mobislenet.preprocess_input(img_array_expanded_dims)"
      ]
    },
    {
      "cell_type": "code",
      "execution_count": null,
      "metadata": {
        "id": "zdEdeAYuliVV"
      },
      "outputs": [],
      "source": [
        "from keras.preprocessing import image\n",
        "def load_image(img_path, show=False):\n",
        "\n",
        "    img = image.load_img(img_path, target_size=IMAGE_SIZE)\n",
        "    img_tensor = image.img_to_array(img)                    # (height, width, channels)\n",
        "    img_tensor = np.expand_dims(img_tensor, axis=0)         # (1, height, width, channels), add a dimension because the model expects this shape: (batch_size, height, width, channels)\n",
        "    img_tensor /= 255.                                      # imshow expects values in the range [0, 1]\n",
        "\n",
        "    if show:\n",
        "        plt.imshow(img_tensor[0])                           \n",
        "        plt.axis('off')\n",
        "        plt.show()\n",
        "\n",
        "    return img_tensor"
      ]
    },
    {
      "cell_type": "code",
      "execution_count": null,
      "metadata": {
        "id": "2wgO-cv416x-"
      },
      "outputs": [],
      "source": [
        "#imports the mobilenet model and discards the last 1000 neuron layer.\n",
        "base_model=MobileNet(weights='imagenet',include_top=False, input_shape=(224,224,3))\n",
        "\n",
        "x=base_model.output\n",
        "x=GlobalAveragePooling2D()(x)\n",
        "#add dense layers so that the model can learn more complex functions and classify for better results.\n",
        "x=Dense(1024,activation='relu')(x) #dense layer 1\n",
        "x=Dense(1024,activation='relu')(x) #dense layer 2\n",
        "x=Dense(512,activation='relu')(x) #dense layer 3\n",
        "preds=Dense(38,activation='softmax')(x) #final layer with softmax activation"
      ]
    },
    {
      "cell_type": "code",
      "execution_count": null,
      "metadata": {
        "colab": {
          "base_uri": "https://localhost:8080/"
        },
        "id": "Gxm608Z12BJf",
        "outputId": "6b2f9f4d-1003-4e4f-c4c7-46e581fa530b",
        "scrolled": true
      },
      "outputs": [
        {
          "name": "stdout",
          "output_type": "stream",
          "text": [
            "KerasTensor(type_spec=TensorSpec(shape=(None, 224, 224, 3), dtype=tf.float32, name='input_2'), name='input_2', description=\"created by layer 'input_2'\")\n",
            "0 input_2\n",
            "1 conv1\n",
            "2 conv1_bn\n",
            "3 conv1_relu\n",
            "4 conv_dw_1\n",
            "5 conv_dw_1_bn\n",
            "6 conv_dw_1_relu\n",
            "7 conv_pw_1\n",
            "8 conv_pw_1_bn\n",
            "9 conv_pw_1_relu\n",
            "10 conv_pad_2\n",
            "11 conv_dw_2\n",
            "12 conv_dw_2_bn\n",
            "13 conv_dw_2_relu\n",
            "14 conv_pw_2\n",
            "15 conv_pw_2_bn\n",
            "16 conv_pw_2_relu\n",
            "17 conv_dw_3\n",
            "18 conv_dw_3_bn\n",
            "19 conv_dw_3_relu\n",
            "20 conv_pw_3\n",
            "21 conv_pw_3_bn\n",
            "22 conv_pw_3_relu\n",
            "23 conv_pad_4\n",
            "24 conv_dw_4\n",
            "25 conv_dw_4_bn\n",
            "26 conv_dw_4_relu\n",
            "27 conv_pw_4\n",
            "28 conv_pw_4_bn\n",
            "29 conv_pw_4_relu\n",
            "30 conv_dw_5\n",
            "31 conv_dw_5_bn\n",
            "32 conv_dw_5_relu\n",
            "33 conv_pw_5\n",
            "34 conv_pw_5_bn\n",
            "35 conv_pw_5_relu\n",
            "36 conv_pad_6\n",
            "37 conv_dw_6\n",
            "38 conv_dw_6_bn\n",
            "39 conv_dw_6_relu\n",
            "40 conv_pw_6\n",
            "41 conv_pw_6_bn\n",
            "42 conv_pw_6_relu\n",
            "43 conv_dw_7\n",
            "44 conv_dw_7_bn\n",
            "45 conv_dw_7_relu\n",
            "46 conv_pw_7\n",
            "47 conv_pw_7_bn\n",
            "48 conv_pw_7_relu\n",
            "49 conv_dw_8\n",
            "50 conv_dw_8_bn\n",
            "51 conv_dw_8_relu\n",
            "52 conv_pw_8\n",
            "53 conv_pw_8_bn\n",
            "54 conv_pw_8_relu\n",
            "55 conv_dw_9\n",
            "56 conv_dw_9_bn\n",
            "57 conv_dw_9_relu\n",
            "58 conv_pw_9\n",
            "59 conv_pw_9_bn\n",
            "60 conv_pw_9_relu\n",
            "61 conv_dw_10\n",
            "62 conv_dw_10_bn\n",
            "63 conv_dw_10_relu\n",
            "64 conv_pw_10\n",
            "65 conv_pw_10_bn\n",
            "66 conv_pw_10_relu\n",
            "67 conv_dw_11\n",
            "68 conv_dw_11_bn\n",
            "69 conv_dw_11_relu\n",
            "70 conv_pw_11\n",
            "71 conv_pw_11_bn\n",
            "72 conv_pw_11_relu\n",
            "73 conv_pad_12\n",
            "74 conv_dw_12\n",
            "75 conv_dw_12_bn\n",
            "76 conv_dw_12_relu\n",
            "77 conv_pw_12\n",
            "78 conv_pw_12_bn\n",
            "79 conv_pw_12_relu\n",
            "80 conv_dw_13\n",
            "81 conv_dw_13_bn\n",
            "82 conv_dw_13_relu\n",
            "83 conv_pw_13\n",
            "84 conv_pw_13_bn\n",
            "85 conv_pw_13_relu\n",
            "86 global_average_pooling2d_1\n",
            "87 dense\n",
            "88 dense_1\n",
            "89 dense_2\n",
            "90 dense_3\n"
          ]
        }
      ],
      "source": [
        "model=Model(inputs=base_model.input,outputs=preds)\n",
        "print(base_model.input)\n",
        "\n",
        "for i,layer in enumerate(model.layers):\n",
        "  print(i,layer.name)"
      ]
    },
    {
      "cell_type": "code",
      "execution_count": null,
      "metadata": {
        "id": "TD3Kf85u2GFU"
      },
      "outputs": [],
      "source": [
        "\n",
        "for layer in model.layers[:88]:\n",
        "    layer.trainable=False\n",
        "for layer in model.layers[88:]:\n",
        "    layer.trainable=True"
      ]
    },
    {
      "cell_type": "code",
      "execution_count": null,
      "metadata": {
        "colab": {
          "base_uri": "https://localhost:8080/"
        },
        "id": "UL2tVKSg2Lcx",
        "outputId": "bb72e883-3fae-44d4-ea16-7b9e4eac6c47"
      },
      "outputs": [
        {
          "name": "stdout",
          "output_type": "stream",
          "text": [
            "Model: \"model\"\n",
            "_________________________________________________________________\n",
            "Layer (type)                 Output Shape              Param #   \n",
            "=================================================================\n",
            "input_2 (InputLayer)         [(None, 224, 224, 3)]     0         \n",
            "_________________________________________________________________\n",
            "conv1 (Conv2D)               (None, 112, 112, 32)      864       \n",
            "_________________________________________________________________\n",
            "conv1_bn (BatchNormalization (None, 112, 112, 32)      128       \n",
            "_________________________________________________________________\n",
            "conv1_relu (ReLU)            (None, 112, 112, 32)      0         \n",
            "_________________________________________________________________\n",
            "conv_dw_1 (DepthwiseConv2D)  (None, 112, 112, 32)      288       \n",
            "_________________________________________________________________\n",
            "conv_dw_1_bn (BatchNormaliza (None, 112, 112, 32)      128       \n",
            "_________________________________________________________________\n",
            "conv_dw_1_relu (ReLU)        (None, 112, 112, 32)      0         \n",
            "_________________________________________________________________\n",
            "conv_pw_1 (Conv2D)           (None, 112, 112, 64)      2048      \n",
            "_________________________________________________________________\n",
            "conv_pw_1_bn (BatchNormaliza (None, 112, 112, 64)      256       \n",
            "_________________________________________________________________\n",
            "conv_pw_1_relu (ReLU)        (None, 112, 112, 64)      0         \n",
            "_________________________________________________________________\n",
            "conv_pad_2 (ZeroPadding2D)   (None, 113, 113, 64)      0         \n",
            "_________________________________________________________________\n",
            "conv_dw_2 (DepthwiseConv2D)  (None, 56, 56, 64)        576       \n",
            "_________________________________________________________________\n",
            "conv_dw_2_bn (BatchNormaliza (None, 56, 56, 64)        256       \n",
            "_________________________________________________________________\n",
            "conv_dw_2_relu (ReLU)        (None, 56, 56, 64)        0         \n",
            "_________________________________________________________________\n",
            "conv_pw_2 (Conv2D)           (None, 56, 56, 128)       8192      \n",
            "_________________________________________________________________\n",
            "conv_pw_2_bn (BatchNormaliza (None, 56, 56, 128)       512       \n",
            "_________________________________________________________________\n",
            "conv_pw_2_relu (ReLU)        (None, 56, 56, 128)       0         \n",
            "_________________________________________________________________\n",
            "conv_dw_3 (DepthwiseConv2D)  (None, 56, 56, 128)       1152      \n",
            "_________________________________________________________________\n",
            "conv_dw_3_bn (BatchNormaliza (None, 56, 56, 128)       512       \n",
            "_________________________________________________________________\n",
            "conv_dw_3_relu (ReLU)        (None, 56, 56, 128)       0         \n",
            "_________________________________________________________________\n",
            "conv_pw_3 (Conv2D)           (None, 56, 56, 128)       16384     \n",
            "_________________________________________________________________\n",
            "conv_pw_3_bn (BatchNormaliza (None, 56, 56, 128)       512       \n",
            "_________________________________________________________________\n",
            "conv_pw_3_relu (ReLU)        (None, 56, 56, 128)       0         \n",
            "_________________________________________________________________\n",
            "conv_pad_4 (ZeroPadding2D)   (None, 57, 57, 128)       0         \n",
            "_________________________________________________________________\n",
            "conv_dw_4 (DepthwiseConv2D)  (None, 28, 28, 128)       1152      \n",
            "_________________________________________________________________\n",
            "conv_dw_4_bn (BatchNormaliza (None, 28, 28, 128)       512       \n",
            "_________________________________________________________________\n",
            "conv_dw_4_relu (ReLU)        (None, 28, 28, 128)       0         \n",
            "_________________________________________________________________\n",
            "conv_pw_4 (Conv2D)           (None, 28, 28, 256)       32768     \n",
            "_________________________________________________________________\n",
            "conv_pw_4_bn (BatchNormaliza (None, 28, 28, 256)       1024      \n",
            "_________________________________________________________________\n",
            "conv_pw_4_relu (ReLU)        (None, 28, 28, 256)       0         \n",
            "_________________________________________________________________\n",
            "conv_dw_5 (DepthwiseConv2D)  (None, 28, 28, 256)       2304      \n",
            "_________________________________________________________________\n",
            "conv_dw_5_bn (BatchNormaliza (None, 28, 28, 256)       1024      \n",
            "_________________________________________________________________\n",
            "conv_dw_5_relu (ReLU)        (None, 28, 28, 256)       0         \n",
            "_________________________________________________________________\n",
            "conv_pw_5 (Conv2D)           (None, 28, 28, 256)       65536     \n",
            "_________________________________________________________________\n",
            "conv_pw_5_bn (BatchNormaliza (None, 28, 28, 256)       1024      \n",
            "_________________________________________________________________\n",
            "conv_pw_5_relu (ReLU)        (None, 28, 28, 256)       0         \n",
            "_________________________________________________________________\n",
            "conv_pad_6 (ZeroPadding2D)   (None, 29, 29, 256)       0         \n",
            "_________________________________________________________________\n",
            "conv_dw_6 (DepthwiseConv2D)  (None, 14, 14, 256)       2304      \n",
            "_________________________________________________________________\n",
            "conv_dw_6_bn (BatchNormaliza (None, 14, 14, 256)       1024      \n",
            "_________________________________________________________________\n",
            "conv_dw_6_relu (ReLU)        (None, 14, 14, 256)       0         \n",
            "_________________________________________________________________\n",
            "conv_pw_6 (Conv2D)           (None, 14, 14, 512)       131072    \n",
            "_________________________________________________________________\n",
            "conv_pw_6_bn (BatchNormaliza (None, 14, 14, 512)       2048      \n",
            "_________________________________________________________________\n",
            "conv_pw_6_relu (ReLU)        (None, 14, 14, 512)       0         \n",
            "_________________________________________________________________\n",
            "conv_dw_7 (DepthwiseConv2D)  (None, 14, 14, 512)       4608      \n",
            "_________________________________________________________________\n",
            "conv_dw_7_bn (BatchNormaliza (None, 14, 14, 512)       2048      \n",
            "_________________________________________________________________\n",
            "conv_dw_7_relu (ReLU)        (None, 14, 14, 512)       0         \n",
            "_________________________________________________________________\n",
            "conv_pw_7 (Conv2D)           (None, 14, 14, 512)       262144    \n",
            "_________________________________________________________________\n",
            "conv_pw_7_bn (BatchNormaliza (None, 14, 14, 512)       2048      \n",
            "_________________________________________________________________\n",
            "conv_pw_7_relu (ReLU)        (None, 14, 14, 512)       0         \n",
            "_________________________________________________________________\n",
            "conv_dw_8 (DepthwiseConv2D)  (None, 14, 14, 512)       4608      \n",
            "_________________________________________________________________\n",
            "conv_dw_8_bn (BatchNormaliza (None, 14, 14, 512)       2048      \n",
            "_________________________________________________________________\n",
            "conv_dw_8_relu (ReLU)        (None, 14, 14, 512)       0         \n",
            "_________________________________________________________________\n",
            "conv_pw_8 (Conv2D)           (None, 14, 14, 512)       262144    \n",
            "_________________________________________________________________\n",
            "conv_pw_8_bn (BatchNormaliza (None, 14, 14, 512)       2048      \n",
            "_________________________________________________________________\n",
            "conv_pw_8_relu (ReLU)        (None, 14, 14, 512)       0         \n",
            "_________________________________________________________________\n",
            "conv_dw_9 (DepthwiseConv2D)  (None, 14, 14, 512)       4608      \n",
            "_________________________________________________________________\n",
            "conv_dw_9_bn (BatchNormaliza (None, 14, 14, 512)       2048      \n",
            "_________________________________________________________________\n",
            "conv_dw_9_relu (ReLU)        (None, 14, 14, 512)       0         \n",
            "_________________________________________________________________\n",
            "conv_pw_9 (Conv2D)           (None, 14, 14, 512)       262144    \n",
            "_________________________________________________________________\n",
            "conv_pw_9_bn (BatchNormaliza (None, 14, 14, 512)       2048      \n",
            "_________________________________________________________________\n",
            "conv_pw_9_relu (ReLU)        (None, 14, 14, 512)       0         \n",
            "_________________________________________________________________\n",
            "conv_dw_10 (DepthwiseConv2D) (None, 14, 14, 512)       4608      \n",
            "_________________________________________________________________\n",
            "conv_dw_10_bn (BatchNormaliz (None, 14, 14, 512)       2048      \n",
            "_________________________________________________________________\n",
            "conv_dw_10_relu (ReLU)       (None, 14, 14, 512)       0         \n",
            "_________________________________________________________________\n",
            "conv_pw_10 (Conv2D)          (None, 14, 14, 512)       262144    \n",
            "_________________________________________________________________\n",
            "conv_pw_10_bn (BatchNormaliz (None, 14, 14, 512)       2048      \n",
            "_________________________________________________________________\n",
            "conv_pw_10_relu (ReLU)       (None, 14, 14, 512)       0         \n",
            "_________________________________________________________________\n",
            "conv_dw_11 (DepthwiseConv2D) (None, 14, 14, 512)       4608      \n",
            "_________________________________________________________________\n",
            "conv_dw_11_bn (BatchNormaliz (None, 14, 14, 512)       2048      \n",
            "_________________________________________________________________\n",
            "conv_dw_11_relu (ReLU)       (None, 14, 14, 512)       0         \n",
            "_________________________________________________________________\n",
            "conv_pw_11 (Conv2D)          (None, 14, 14, 512)       262144    \n",
            "_________________________________________________________________\n",
            "conv_pw_11_bn (BatchNormaliz (None, 14, 14, 512)       2048      \n",
            "_________________________________________________________________\n",
            "conv_pw_11_relu (ReLU)       (None, 14, 14, 512)       0         \n",
            "_________________________________________________________________\n",
            "conv_pad_12 (ZeroPadding2D)  (None, 15, 15, 512)       0         \n",
            "_________________________________________________________________\n",
            "conv_dw_12 (DepthwiseConv2D) (None, 7, 7, 512)         4608      \n",
            "_________________________________________________________________\n",
            "conv_dw_12_bn (BatchNormaliz (None, 7, 7, 512)         2048      \n",
            "_________________________________________________________________\n",
            "conv_dw_12_relu (ReLU)       (None, 7, 7, 512)         0         \n",
            "_________________________________________________________________\n",
            "conv_pw_12 (Conv2D)          (None, 7, 7, 1024)        524288    \n",
            "_________________________________________________________________\n",
            "conv_pw_12_bn (BatchNormaliz (None, 7, 7, 1024)        4096      \n",
            "_________________________________________________________________\n",
            "conv_pw_12_relu (ReLU)       (None, 7, 7, 1024)        0         \n",
            "_________________________________________________________________\n",
            "conv_dw_13 (DepthwiseConv2D) (None, 7, 7, 1024)        9216      \n",
            "_________________________________________________________________\n",
            "conv_dw_13_bn (BatchNormaliz (None, 7, 7, 1024)        4096      \n",
            "_________________________________________________________________\n",
            "conv_dw_13_relu (ReLU)       (None, 7, 7, 1024)        0         \n",
            "_________________________________________________________________\n",
            "conv_pw_13 (Conv2D)          (None, 7, 7, 1024)        1048576   \n",
            "_________________________________________________________________\n",
            "conv_pw_13_bn (BatchNormaliz (None, 7, 7, 1024)        4096      \n",
            "_________________________________________________________________\n",
            "conv_pw_13_relu (ReLU)       (None, 7, 7, 1024)        0         \n",
            "_________________________________________________________________\n",
            "global_average_pooling2d_1 ( (None, 1024)              0         \n",
            "_________________________________________________________________\n",
            "dense (Dense)                (None, 1024)              1049600   \n",
            "_________________________________________________________________\n",
            "dense_1 (Dense)              (None, 1024)              1049600   \n",
            "_________________________________________________________________\n",
            "dense_2 (Dense)              (None, 512)               524800    \n",
            "_________________________________________________________________\n",
            "dense_3 (Dense)              (None, 38)                19494     \n",
            "=================================================================\n",
            "Total params: 5,872,358\n",
            "Trainable params: 1,593,894\n",
            "Non-trainable params: 4,278,464\n",
            "_________________________________________________________________\n"
          ]
        }
      ],
      "source": [
        "model.summary()"
      ]
    },
    {
      "cell_type": "code",
      "execution_count": null,
      "metadata": {
        "id": "QkZqKtj72SA3"
      },
      "outputs": [],
      "source": [
        "model.compile(optimizer='Adam',loss='categorical_crossentropy',metrics=['accuracy'])"
      ]
    },
    {
      "cell_type": "code",
      "execution_count": null,
      "metadata": {
        "colab": {
          "base_uri": "https://localhost:8080/"
        },
        "id": "_LY7Ks9s2XMc",
        "outputId": "075bcdba-ad3d-49b3-8751-18e9a4abf986"
      },
      "outputs": [
        {
          "name": "stdout",
          "output_type": "stream",
          "text": [
            "Found 48321 images belonging to 38 classes.\n",
            "Found 48320 images belonging to 38 classes.\n"
          ]
        }
      ],
      "source": [
        "BATCH_SIZE = 64\n",
        "\n",
        "# Adding rescale, rotation_range, width_shift_range, height_shift_range,\n",
        "# shear_range, zoom_range, and horizontal flip to our ImageDataGenerator\n",
        "train_datagen = ImageDataGenerator(\n",
        "    rescale=1./255,\n",
        "    rotation_range=30, ###40,\n",
        "    width_shift_range=0.1, ###0.2,\n",
        "    height_shift_range=0.1, ###0.2,\n",
        "    shear_range=0.2,\n",
        "    zoom_range=0.2,\n",
        "    horizontal_flip=True,)\n",
        "\n",
        "# Note that the val data should not be augmented!\n",
        "test_datagen= ImageDataGenerator    (rescale=1./255)\n",
        "\n",
        "# Flow training images in batches using train_datagen generator\n",
        "train_generator = train_datagen.flow_from_directory(\n",
        "        train_dir,  # This is the source directory for training images\n",
        "        target_size=IMAGE_SIZE, \n",
        "        batch_size=BATCH_SIZE,\n",
        "        # Since we use binary_crossentropy loss, we need binary labels\n",
        "        class_mode='categorical',\n",
        "        shuffle=True)\n",
        "\n",
        "# Flow validation images in batches using test_datagen generator\n",
        "validation_generator = test_datagen.flow_from_directory(\n",
        "        validation_dir,\n",
        "        target_size=IMAGE_SIZE,\n",
        "        batch_size=BATCH_SIZE,\n",
        "        class_mode='categorical',\n",
        "        shuffle=True)"
      ]
    },
    {
      "cell_type": "code",
      "execution_count": null,
      "metadata": {
        "id": "oZs2Whfi_2A8"
      },
      "outputs": [],
      "source": [
        "import scipy\n",
        "EPOCHS = 10\n",
        "step_size_train=train_generator.n//train_generator.batch_size\n",
        "step_size_validation=validation_generator.n//validation_generator.batch_size\n",
        "print(step_size_train)\n",
        "print(step_size_validation)\n",
        "history = model.fit(train_generator, steps_per_epoch=step_size_train, epochs=EPOCHS,\n",
        " validation_data=validation_generator, validation_steps=step_size_validation,\n",
        " shuffle=True)"
      ]
    },
    {
      "cell_type": "code",
      "execution_count": null,
      "metadata": {
        "id": "14WY4z3U2ycj"
      },
      "outputs": [],
      "source": [
        "import matplotlib.pyplot as plt\n",
        "%matplotlib inline\n",
        "\n",
        "# Retrieve a list of accuracy results on training and test data\n",
        "# sets for each training epoch\n",
        "acc = history.history['accuracy']\n",
        "val_acc = history.history['val_accuracy']\n",
        "\n",
        "# Retrieve a list of loss results on training and test data\n",
        "# sets for each training epoch\n",
        "loss = history.history['loss']\n",
        "val_loss = history.history['val_loss']\n",
        "\n",
        "# Get number of epochs\n",
        "epochs = range(len(acc))\n",
        "\n",
        "# Plot training and validation accuracy per epoch\n",
        "plt.plot(epochs, acc, 'r', label='training')\n",
        "plt.plot(epochs, val_acc, 'b', label='validation')\n",
        "plt.title('Training and validation accuracy')\n",
        "plt.legend()\n",
        "\n",
        "plt.figure()\n",
        "\n",
        "# Plot training and validation loss per epoch\n",
        "plt.plot(epochs, loss, 'r', label='training')\n",
        "plt.plot(epochs, val_loss, 'b', label='validation')\n",
        "plt.title('Training and validation loss')\n",
        "plt.legend()"
      ]
    },
    {
      "cell_type": "code",
      "execution_count": null,
      "metadata": {
        "id": "DuB_turYCwjk"
      },
      "outputs": [],
      "source": [
        "os.mkdir /content/gdrive/'My Drive'/amine"
      ]
    },
    {
      "cell_type": "code",
      "execution_count": null,
      "metadata": {
        "id": "PdSGtBHu3CYv"
      },
      "outputs": [],
      "source": [
        "model.save(\"/content/gdrive/My Drive/amine/mnet_model_Leaves_tl.h5\")"
      ]
    },
    {
      "cell_type": "code",
      "execution_count": null,
      "metadata": {
        "id": "SfyXbk5n3GN0"
      },
      "outputs": [],
      "source": [
        "model = tf.keras.models.load_model('plant.h5',custom_objects={'KerasLayer':hub.KerasLayer})\n",
        "model.summary()"
      ]
    },
    {
      "cell_type": "code",
      "execution_count": null,
      "metadata": {
        "id": "9S62u5Es3KT9"
      },
      "outputs": [],
      "source": [
        "class_names=['Apple___Apple_scab', 'Apple___Black_rot', 'Apple___Cedar_apple_rust', 'Apple___healthy', 'Blueberry___healthy', 'Cherry____healthy', 'Cherry____Powdery_mildew', 'Corn____Cercospora_leaf_spot_Gray_leaf_spot', 'Corn____Common_rust', 'Corn____healthy', 'Corn____Northern_Leaf_Blight', 'Grape___Black_rot', 'Grape___healthy', 'Heart_Leaf_Philodendron_citrus_greening', 'Heart_Leaf_Philodendron_healthy', 'Orange___Citrus_greening', 'Peach___Bacterial_spot', 'Peach___healthy', 'Pepper__bell___Bacterial_spot', 'Pepper__bell___healthy', 'Polka_Dot_healthy', 'Potato___healthy', 'Potato___Late_blight', 'Potato__Early_blight', 'Raspberry___healthy', 'Soybean___healthy', 'Squash___Powdery_mildew', 'Strawberry___healthy', 'Strawberry___Leaf_scorch' 'Tomato___Target_Spot', 'Tomato___Tomato_Yellow_Leaf_Curl_Virus', 'Tomato__Tomato_mosaic_virus', 'Tomato_Bacterial_spot', 'Tomato_Early_blight', 'Tomato_healthy', 'Tomato_Late_blight', 'Tomato_Leaf_Mold', 'Tomato_Septoria_leaf_spot']"
      ]
    },
    {
      "cell_type": "code",
      "execution_count": null,
      "metadata": {
        "id": "sjIVOQLX3NVJ"
      },
      "outputs": [],
      "source": [
        "import glob\n",
        "list_of_files = glob.glob(test_dir+'/*.JPG')           # create the list of file from test directory\n",
        "print(len(list_of_files))\n",
        "print(test_dir)"
      ]
    },
    {
      "cell_type": "code",
      "execution_count": null,
      "metadata": {
        "id": "DIQDM9Yx3RRg"
      },
      "outputs": [],
      "source": [
        "# Randomly choose a picture to test your model\n",
        "img_number= int(np.random.randint(0,len(list_of_files), size=1))\n",
        "test_image=list_of_files[img_number]\n",
        "\n",
        "new_image = load_image(test_image)\n",
        "\n",
        "pred = model.predict(new_image)\n",
        "print(pred[0])\n",
        "prediction_result = class_names[np.argmax(pred[0])]\n",
        "print('prediction=',prediction_result)\n",
        "\n",
        "img = image.load_img(test_image,target_size=IMAGE_SIZE)\n",
        "img"
      ]
    }
  ],
  "metadata": {
    "accelerator": "GPU",
    "colab": {
      "collapsed_sections": [],
      "name": "Finale_Plant_Disease_Recognition",
      "provenance": []
    },
    "kernelspec": {
      "display_name": "Python 3 (ipykernel)",
      "language": "python",
      "name": "python3"
    },
    "language_info": {
      "codemirror_mode": {
        "name": "ipython",
        "version": 3
      },
      "file_extension": ".py",
      "mimetype": "text/x-python",
      "name": "python",
      "nbconvert_exporter": "python",
      "pygments_lexer": "ipython3",
      "version": "3.9.7"
    }
  },
  "nbformat": 4,
  "nbformat_minor": 0
}
